{
 "cells": [
  {
   "cell_type": "code",
   "execution_count": 16,
   "metadata": {},
   "outputs": [],
   "source": [
    "import pandas as pd\n",
    "import numpy as np\n",
    "import requests\n",
    "from bs4 import BeautifulSoup"
   ]
  },
  {
   "cell_type": "code",
   "execution_count": 17,
   "metadata": {},
   "outputs": [],
   "source": [
    "df = pd.read_csv(\"../data/processed/forbes_definitive.csv\", index_col = 0)"
   ]
  },
  {
   "cell_type": "code",
   "execution_count": 18,
   "metadata": {},
   "outputs": [
    {
     "data": {
      "text/html": [
       "<div>\n",
       "<style scoped>\n",
       "    .dataframe tbody tr th:only-of-type {\n",
       "        vertical-align: middle;\n",
       "    }\n",
       "\n",
       "    .dataframe tbody tr th {\n",
       "        vertical-align: top;\n",
       "    }\n",
       "\n",
       "    .dataframe thead th {\n",
       "        text-align: right;\n",
       "    }\n",
       "</style>\n",
       "<table border=\"1\" class=\"dataframe\">\n",
       "  <thead>\n",
       "    <tr style=\"text-align: right;\">\n",
       "      <th></th>\n",
       "      <th>id</th>\n",
       "      <th>worth (BUSD)</th>\n",
       "      <th>worthChage (millions USD)</th>\n",
       "      <th>realTimePosition</th>\n",
       "      <th>name</th>\n",
       "      <th>position</th>\n",
       "      <th>area</th>\n",
       "      <th>source</th>\n",
       "      <th>age</th>\n",
       "      <th>gender</th>\n",
       "      <th>country</th>\n",
       "    </tr>\n",
       "  </thead>\n",
       "  <tbody>\n",
       "    <tr>\n",
       "      <th>0</th>\n",
       "      <td>3033</td>\n",
       "      <td>112.0</td>\n",
       "      <td>0.000</td>\n",
       "      <td>1</td>\n",
       "      <td>Jeff Bezos</td>\n",
       "      <td>1</td>\n",
       "      <td>Technology</td>\n",
       "      <td>Amazon</td>\n",
       "      <td>55.0</td>\n",
       "      <td>M</td>\n",
       "      <td>United States</td>\n",
       "    </tr>\n",
       "    <tr>\n",
       "      <th>1</th>\n",
       "      <td>3381</td>\n",
       "      <td>90.0</td>\n",
       "      <td>-0.001</td>\n",
       "      <td>2</td>\n",
       "      <td>Bill Gates</td>\n",
       "      <td>2</td>\n",
       "      <td>Technology</td>\n",
       "      <td>Microsoft</td>\n",
       "      <td>64.0</td>\n",
       "      <td>M</td>\n",
       "      <td>United States</td>\n",
       "    </tr>\n",
       "    <tr>\n",
       "      <th>2</th>\n",
       "      <td>2949</td>\n",
       "      <td>84.0</td>\n",
       "      <td>-0.002</td>\n",
       "      <td>3</td>\n",
       "      <td>Warren Buffett</td>\n",
       "      <td>3</td>\n",
       "      <td>Finance and Investments</td>\n",
       "      <td>Berkshire Hathaway</td>\n",
       "      <td>89.0</td>\n",
       "      <td>M</td>\n",
       "      <td>United States</td>\n",
       "    </tr>\n",
       "    <tr>\n",
       "      <th>3</th>\n",
       "      <td>7380</td>\n",
       "      <td>72.0</td>\n",
       "      <td>0.000</td>\n",
       "      <td>4</td>\n",
       "      <td>Bernard Arnault</td>\n",
       "      <td>4</td>\n",
       "      <td>Fashion &amp; Retail</td>\n",
       "      <td>LVMH</td>\n",
       "      <td>70.0</td>\n",
       "      <td>M</td>\n",
       "      <td>France</td>\n",
       "    </tr>\n",
       "    <tr>\n",
       "      <th>4</th>\n",
       "      <td>6568</td>\n",
       "      <td>71.0</td>\n",
       "      <td>0.000</td>\n",
       "      <td>5</td>\n",
       "      <td>Mark Zuckerberg</td>\n",
       "      <td>5</td>\n",
       "      <td>Technology</td>\n",
       "      <td>Facebook</td>\n",
       "      <td>35.0</td>\n",
       "      <td>M</td>\n",
       "      <td>United States</td>\n",
       "    </tr>\n",
       "    <tr>\n",
       "      <th>...</th>\n",
       "      <td>...</td>\n",
       "      <td>...</td>\n",
       "      <td>...</td>\n",
       "      <td>...</td>\n",
       "      <td>...</td>\n",
       "      <td>...</td>\n",
       "      <td>...</td>\n",
       "      <td>...</td>\n",
       "      <td>...</td>\n",
       "      <td>...</td>\n",
       "      <td>...</td>\n",
       "    </tr>\n",
       "    <tr>\n",
       "      <th>2208</th>\n",
       "      <td>9856</td>\n",
       "      <td>1.0</td>\n",
       "      <td>0.000</td>\n",
       "      <td>2134</td>\n",
       "      <td>Zhao Xiaoqiang</td>\n",
       "      <td>2204</td>\n",
       "      <td>Fashion &amp; Retail</td>\n",
       "      <td>fashion, entertainment</td>\n",
       "      <td>52.0</td>\n",
       "      <td>M</td>\n",
       "      <td>China</td>\n",
       "    </tr>\n",
       "    <tr>\n",
       "      <th>2209</th>\n",
       "      <td>5033</td>\n",
       "      <td>1.0</td>\n",
       "      <td>NaN</td>\n",
       "      <td>2134</td>\n",
       "      <td>Zhou Liangzhang</td>\n",
       "      <td>2205</td>\n",
       "      <td>Manufacturing</td>\n",
       "      <td>electrical equipment</td>\n",
       "      <td>57.0</td>\n",
       "      <td>M</td>\n",
       "      <td>China</td>\n",
       "    </tr>\n",
       "    <tr>\n",
       "      <th>2210</th>\n",
       "      <td>6612</td>\n",
       "      <td>1.0</td>\n",
       "      <td>0.000</td>\n",
       "      <td>1856</td>\n",
       "      <td>Zhu Xingming</td>\n",
       "      <td>2206</td>\n",
       "      <td>Manufacturing</td>\n",
       "      <td>electrical equipment</td>\n",
       "      <td>52.0</td>\n",
       "      <td>M</td>\n",
       "      <td>China</td>\n",
       "    </tr>\n",
       "    <tr>\n",
       "      <th>2211</th>\n",
       "      <td>8969</td>\n",
       "      <td>1.0</td>\n",
       "      <td>0.000</td>\n",
       "      <td>1978</td>\n",
       "      <td>Zhuo Jun</td>\n",
       "      <td>2207</td>\n",
       "      <td>Manufacturing</td>\n",
       "      <td>printed circuit boards</td>\n",
       "      <td>54.0</td>\n",
       "      <td>F</td>\n",
       "      <td>Hong Kong</td>\n",
       "    </tr>\n",
       "    <tr>\n",
       "      <th>2212</th>\n",
       "      <td>1353</td>\n",
       "      <td>1.0</td>\n",
       "      <td>NaN</td>\n",
       "      <td>1978</td>\n",
       "      <td>Olgun Zorlu</td>\n",
       "      <td>2208</td>\n",
       "      <td>Diversified</td>\n",
       "      <td>diversified</td>\n",
       "      <td>56.0</td>\n",
       "      <td>M</td>\n",
       "      <td>Turkey</td>\n",
       "    </tr>\n",
       "  </tbody>\n",
       "</table>\n",
       "<p>2213 rows × 11 columns</p>\n",
       "</div>"
      ],
      "text/plain": [
       "        id  worth (BUSD)  worthChage (millions USD)  realTimePosition  \\\n",
       "0     3033         112.0                      0.000                 1   \n",
       "1     3381          90.0                     -0.001                 2   \n",
       "2     2949          84.0                     -0.002                 3   \n",
       "3     7380          72.0                      0.000                 4   \n",
       "4     6568          71.0                      0.000                 5   \n",
       "...    ...           ...                        ...               ...   \n",
       "2208  9856           1.0                      0.000              2134   \n",
       "2209  5033           1.0                        NaN              2134   \n",
       "2210  6612           1.0                      0.000              1856   \n",
       "2211  8969           1.0                      0.000              1978   \n",
       "2212  1353           1.0                        NaN              1978   \n",
       "\n",
       "                 name  position                       area  \\\n",
       "0          Jeff Bezos         1               Technology     \n",
       "1          Bill Gates         2               Technology     \n",
       "2      Warren Buffett         3  Finance and Investments     \n",
       "3     Bernard Arnault         4         Fashion & Retail     \n",
       "4     Mark Zuckerberg         5               Technology     \n",
       "...               ...       ...                        ...   \n",
       "2208   Zhao Xiaoqiang      2204         Fashion & Retail     \n",
       "2209  Zhou Liangzhang      2205            Manufacturing     \n",
       "2210     Zhu Xingming      2206            Manufacturing     \n",
       "2211         Zhuo Jun      2207            Manufacturing     \n",
       "2212      Olgun Zorlu      2208              Diversified     \n",
       "\n",
       "                       source   age gender        country  \n",
       "0                      Amazon  55.0      M  United States  \n",
       "1                   Microsoft  64.0      M  United States  \n",
       "2          Berkshire Hathaway  89.0      M  United States  \n",
       "3                        LVMH  70.0      M         France  \n",
       "4                    Facebook  35.0      M  United States  \n",
       "...                       ...   ...    ...            ...  \n",
       "2208   fashion, entertainment  52.0      M          China  \n",
       "2209     electrical equipment  57.0      M          China  \n",
       "2210     electrical equipment  52.0      M          China  \n",
       "2211   printed circuit boards  54.0      F      Hong Kong  \n",
       "2212              diversified  56.0      M         Turkey  \n",
       "\n",
       "[2213 rows x 11 columns]"
      ]
     },
     "execution_count": 18,
     "metadata": {},
     "output_type": "execute_result"
    }
   ],
   "source": [
    "df"
   ]
  },
  {
   "cell_type": "code",
   "execution_count": 19,
   "metadata": {},
   "outputs": [],
   "source": [
    "countries = list(set(df.country.to_list()))\n"
   ]
  },
  {
   "cell_type": "code",
   "execution_count": 20,
   "metadata": {},
   "outputs": [],
   "source": [
    "countries = list(map(lambda x: x.lower().replace(' ', '-') if type(x) == str else None, countries))"
   ]
  },
  {
   "cell_type": "code",
   "execution_count": 21,
   "metadata": {},
   "outputs": [
    {
     "data": {
      "text/plain": [
       "['mexico',\n",
       " None,\n",
       " 'iceland',\n",
       " 'kuwait',\n",
       " 'germany',\n",
       " 'canada',\n",
       " 'vietnam',\n",
       " 'denmark',\n",
       " 'kazakhstan',\n",
       " 'russia',\n",
       " 'austria',\n",
       " 'new-zealand',\n",
       " 'georgia',\n",
       " 'switzerland',\n",
       " 'taiwan',\n",
       " 'tanzania',\n",
       " 'lebanon',\n",
       " 'morocco',\n",
       " 'ireland',\n",
       " 'india',\n",
       " 'china',\n",
       " 'monaco',\n",
       " 'st.-kitts-and-nevis',\n",
       " 'south-korea',\n",
       " 'zimbabwe',\n",
       " 'oman',\n",
       " 'venezuela',\n",
       " 'france',\n",
       " 'sweden',\n",
       " 'philippines',\n",
       " 'united-kingdom',\n",
       " 'finland',\n",
       " 'poland',\n",
       " 'czech-republic',\n",
       " 'norway',\n",
       " 'hong-kong',\n",
       " 'malaysia',\n",
       " 'nigeria',\n",
       " 'egypt',\n",
       " 'thailand',\n",
       " 'liechtenstein',\n",
       " 'brazil',\n",
       " 'slovakia',\n",
       " 'belgium',\n",
       " 'portugal',\n",
       " 'ukraine',\n",
       " 'turkey',\n",
       " 'united-states',\n",
       " 'indonesia',\n",
       " 'chile',\n",
       " 'south-africa',\n",
       " 'united-arab-emirates',\n",
       " 'argentina',\n",
       " 'macau',\n",
       " 'hungary',\n",
       " 'algeria',\n",
       " 'japan',\n",
       " 'israel',\n",
       " 'greece',\n",
       " 'netherlands',\n",
       " 'australia',\n",
       " 'swaziland',\n",
       " 'cyprus',\n",
       " 'peru',\n",
       " 'guernsey',\n",
       " 'spain',\n",
       " 'italy',\n",
       " 'nepal',\n",
       " 'romania',\n",
       " 'singapore',\n",
       " 'qatar',\n",
       " 'colombia']"
      ]
     },
     "execution_count": 21,
     "metadata": {},
     "output_type": "execute_result"
    }
   ],
   "source": [
    "countries"
   ]
  },
  {
   "cell_type": "code",
   "execution_count": 22,
   "metadata": {},
   "outputs": [],
   "source": [
    "url = \"https://countryeconomy.com/countries/\""
   ]
  },
  {
   "cell_type": "code",
   "execution_count": 23,
   "metadata": {},
   "outputs": [
    {
     "ename": "TypeError",
     "evalue": "can only concatenate str (not \"NoneType\") to str",
     "output_type": "error",
     "traceback": [
      "\u001b[0;31m---------------------------------------------------------------------------\u001b[0m",
      "\u001b[0;31mTypeError\u001b[0m                                 Traceback (most recent call last)",
      "\u001b[0;32m<ipython-input-23-ec5623b27ec7>\u001b[0m in \u001b[0;36m<module>\u001b[0;34m\u001b[0m\n\u001b[0;32m----> 1\u001b[0;31m \u001b[0mdf1\u001b[0m \u001b[0;34m=\u001b[0m \u001b[0mpd\u001b[0m\u001b[0;34m.\u001b[0m\u001b[0mread_html\u001b[0m\u001b[0;34m(\u001b[0m\u001b[0murl\u001b[0m\u001b[0;34m+\u001b[0m\u001b[0mcountries\u001b[0m\u001b[0;34m[\u001b[0m\u001b[0;36m1\u001b[0m\u001b[0;34m]\u001b[0m\u001b[0;34m,\u001b[0m \u001b[0mattrs\u001b[0m \u001b[0;34m=\u001b[0m \u001b[0;34m{\u001b[0m\u001b[0;34m'class'\u001b[0m\u001b[0;34m:\u001b[0m \u001b[0;34m'table tabledat table-striped table-condensed table-hover'\u001b[0m\u001b[0;34m}\u001b[0m\u001b[0;34m)\u001b[0m\u001b[0;34m[\u001b[0m\u001b[0;36m0\u001b[0m\u001b[0;34m]\u001b[0m\u001b[0;34m\u001b[0m\u001b[0;34m\u001b[0m\u001b[0m\n\u001b[0m",
      "\u001b[0;31mTypeError\u001b[0m: can only concatenate str (not \"NoneType\") to str"
     ]
    }
   ],
   "source": [
    "df1 = pd.read_html(url+countries[1], attrs = {'class': 'table tabledat table-striped table-condensed table-hover'})[0]"
   ]
  },
  {
   "cell_type": "code",
   "execution_count": 24,
   "metadata": {},
   "outputs": [
    {
     "ename": "NameError",
     "evalue": "name 'df1' is not defined",
     "output_type": "error",
     "traceback": [
      "\u001b[0;31m---------------------------------------------------------------------------\u001b[0m",
      "\u001b[0;31mNameError\u001b[0m                                 Traceback (most recent call last)",
      "\u001b[0;32m<ipython-input-24-f3bf3c5d6048>\u001b[0m in \u001b[0;36m<module>\u001b[0;34m\u001b[0m\n\u001b[0;32m----> 1\u001b[0;31m \u001b[0mdf1\u001b[0m\u001b[0;34m.\u001b[0m\u001b[0mdrop\u001b[0m\u001b[0;34m(\u001b[0m\u001b[0;36m1\u001b[0m\u001b[0;34m,\u001b[0m \u001b[0maxis\u001b[0m \u001b[0;34m=\u001b[0m \u001b[0;36m1\u001b[0m\u001b[0;34m,\u001b[0m  \u001b[0minplace\u001b[0m\u001b[0;34m=\u001b[0m\u001b[0;32mTrue\u001b[0m\u001b[0;34m)\u001b[0m\u001b[0;34m\u001b[0m\u001b[0;34m\u001b[0m\u001b[0m\n\u001b[0m",
      "\u001b[0;31mNameError\u001b[0m: name 'df1' is not defined"
     ]
    }
   ],
   "source": [
    "df1.drop(1, axis = 1,  inplace=True)"
   ]
  },
  {
   "cell_type": "code",
   "execution_count": null,
   "metadata": {},
   "outputs": [],
   "source": [
    "df1 = df1.T"
   ]
  },
  {
   "cell_type": "code",
   "execution_count": 10,
   "metadata": {},
   "outputs": [
    {
     "ename": "NameError",
     "evalue": "name 'df1' is not defined",
     "output_type": "error",
     "traceback": [
      "\u001b[0;31m---------------------------------------------------------------------------\u001b[0m",
      "\u001b[0;31mNameError\u001b[0m                                 Traceback (most recent call last)",
      "\u001b[0;32m<ipython-input-10-9fad5b571208>\u001b[0m in \u001b[0;36m<module>\u001b[0;34m\u001b[0m\n\u001b[0;32m----> 1\u001b[0;31m \u001b[0mdf1\u001b[0m\u001b[0;34m.\u001b[0m\u001b[0mcolumns\u001b[0m \u001b[0;34m=\u001b[0m \u001b[0mdf1\u001b[0m\u001b[0;34m.\u001b[0m\u001b[0miloc\u001b[0m\u001b[0;34m[\u001b[0m\u001b[0;36m0\u001b[0m\u001b[0;34m]\u001b[0m\u001b[0;34m\u001b[0m\u001b[0;34m\u001b[0m\u001b[0m\n\u001b[0m",
      "\u001b[0;31mNameError\u001b[0m: name 'df1' is not defined"
     ]
    }
   ],
   "source": [
    "df1.columns = df1.iloc[0]"
   ]
  },
  {
   "cell_type": "code",
   "execution_count": 11,
   "metadata": {},
   "outputs": [
    {
     "ename": "NameError",
     "evalue": "name 'df1' is not defined",
     "output_type": "error",
     "traceback": [
      "\u001b[0;31m---------------------------------------------------------------------------\u001b[0m",
      "\u001b[0;31mNameError\u001b[0m                                 Traceback (most recent call last)",
      "\u001b[0;32m<ipython-input-11-0aeb10cc9e80>\u001b[0m in \u001b[0;36m<module>\u001b[0;34m\u001b[0m\n\u001b[0;32m----> 1\u001b[0;31m \u001b[0mdf1\u001b[0m\u001b[0;34m[\u001b[0m\u001b[0;34m\"Country\"\u001b[0m\u001b[0;34m]\u001b[0m \u001b[0;34m=\u001b[0m \u001b[0mcountries\u001b[0m\u001b[0;34m[\u001b[0m\u001b[0;36m1\u001b[0m\u001b[0;34m]\u001b[0m\u001b[0;34m\u001b[0m\u001b[0;34m\u001b[0m\u001b[0m\n\u001b[0m",
      "\u001b[0;31mNameError\u001b[0m: name 'df1' is not defined"
     ]
    }
   ],
   "source": [
    "df1[\"Country\"] = countries[1]"
   ]
  },
  {
   "cell_type": "code",
   "execution_count": 12,
   "metadata": {},
   "outputs": [
    {
     "ename": "NameError",
     "evalue": "name 'df1' is not defined",
     "output_type": "error",
     "traceback": [
      "\u001b[0;31m---------------------------------------------------------------------------\u001b[0m",
      "\u001b[0;31mNameError\u001b[0m                                 Traceback (most recent call last)",
      "\u001b[0;32m<ipython-input-12-d68cac23cef3>\u001b[0m in \u001b[0;36m<module>\u001b[0;34m\u001b[0m\n\u001b[0;32m----> 1\u001b[0;31m \u001b[0mdf1\u001b[0m \u001b[0;34m=\u001b[0m \u001b[0mdf1\u001b[0m\u001b[0;34m.\u001b[0m\u001b[0mdrop\u001b[0m\u001b[0;34m(\u001b[0m\u001b[0;36m0\u001b[0m\u001b[0;34m)\u001b[0m\u001b[0;34m.\u001b[0m\u001b[0mdrop\u001b[0m\u001b[0;34m(\u001b[0m\u001b[0;34m\"Gouvernement\"\u001b[0m\u001b[0;34m,\u001b[0m \u001b[0maxis\u001b[0m \u001b[0;34m=\u001b[0m \u001b[0;36m1\u001b[0m\u001b[0;34m)\u001b[0m\u001b[0;34m\u001b[0m\u001b[0;34m\u001b[0m\u001b[0m\n\u001b[0m",
      "\u001b[0;31mNameError\u001b[0m: name 'df1' is not defined"
     ]
    }
   ],
   "source": [
    "df1 = df1.drop(0).drop(\"Gouvernement\", axis = 1)"
   ]
  },
  {
   "cell_type": "code",
   "execution_count": 13,
   "metadata": {},
   "outputs": [
    {
     "ename": "NameError",
     "evalue": "name 'df1' is not defined",
     "output_type": "error",
     "traceback": [
      "\u001b[0;31m---------------------------------------------------------------------------\u001b[0m",
      "\u001b[0;31mNameError\u001b[0m                                 Traceback (most recent call last)",
      "\u001b[0;32m<ipython-input-13-6a861a8b3f1a>\u001b[0m in \u001b[0;36m<module>\u001b[0;34m\u001b[0m\n\u001b[0;32m----> 1\u001b[0;31m \u001b[0mdf1\u001b[0m\u001b[0;34m\u001b[0m\u001b[0;34m\u001b[0m\u001b[0m\n\u001b[0m",
      "\u001b[0;31mNameError\u001b[0m: name 'df1' is not defined"
     ]
    }
   ],
   "source": [
    "df1"
   ]
  },
  {
   "cell_type": "code",
   "execution_count": 14,
   "metadata": {},
   "outputs": [
    {
     "ename": "NameError",
     "evalue": "name 'df1' is not defined",
     "output_type": "error",
     "traceback": [
      "\u001b[0;31m---------------------------------------------------------------------------\u001b[0m",
      "\u001b[0;31mNameError\u001b[0m                                 Traceback (most recent call last)",
      "\u001b[0;32m<ipython-input-14-f1f3c20c986c>\u001b[0m in \u001b[0;36m<module>\u001b[0;34m\u001b[0m\n\u001b[0;32m----> 1\u001b[0;31m \u001b[0mdf1\u001b[0m\u001b[0;34m.\u001b[0m\u001b[0mloc\u001b[0m\u001b[0;34m[\u001b[0m\u001b[0;34m:\u001b[0m\u001b[0;34m,\u001b[0m \u001b[0;34m[\u001b[0m\u001b[0;34m\"Annual GDP [+]\"\u001b[0m\u001b[0;34m,\u001b[0m \u001b[0;34m\"GDP per capita [+]\"\u001b[0m\u001b[0;34m]\u001b[0m\u001b[0;34m]\u001b[0m\u001b[0;34m.\u001b[0m\u001b[0miloc\u001b[0m\u001b[0;34m[\u001b[0m\u001b[0;34m:\u001b[0m\u001b[0;34m,\u001b[0m \u001b[0;34m[\u001b[0m\u001b[0;36m1\u001b[0m\u001b[0;34m,\u001b[0m \u001b[0;36m3\u001b[0m\u001b[0;34m]\u001b[0m\u001b[0;34m]\u001b[0m\u001b[0;34m\u001b[0m\u001b[0;34m\u001b[0m\u001b[0m\n\u001b[0m",
      "\u001b[0;31mNameError\u001b[0m: name 'df1' is not defined"
     ]
    }
   ],
   "source": [
    "df1.loc[:, [\"Annual GDP [+]\", \"GDP per capita [+]\"]].iloc[:, [1, 3]]"
   ]
  },
  {
   "cell_type": "code",
   "execution_count": null,
   "metadata": {},
   "outputs": [],
   "source": []
  },
  {
   "cell_type": "code",
   "execution_count": 15,
   "metadata": {},
   "outputs": [],
   "source": [
    "def web_scrap_economic(url, country):\n",
    "    df1 = pd.read_html(url + country, attrs = {'class': 'table tabledat table-striped table-condensed table-hover'})[0]\n",
    "    df1.drop(1, axis = 1,  inplace=True)\n",
    "    df1 = df1.T\n",
    "    df1.columns = df1.iloc[0]\n",
    "    df1 = df1.drop(0).drop(\"Gouvernement\", axis = 1)\n",
    "    return_df = df1.loc[:, [\"Annual GDP [+]\", \"GDP per capita [+]\"]].iloc[:, [1, 3]]\n",
    "    return return_df"
   ]
  },
  {
   "cell_type": "code",
   "execution_count": 206,
   "metadata": {},
   "outputs": [
    {
     "data": {
      "text/html": [
       "<div>\n",
       "<style scoped>\n",
       "    .dataframe tbody tr th:only-of-type {\n",
       "        vertical-align: middle;\n",
       "    }\n",
       "\n",
       "    .dataframe tbody tr th {\n",
       "        vertical-align: top;\n",
       "    }\n",
       "\n",
       "    .dataframe thead th {\n",
       "        text-align: right;\n",
       "    }\n",
       "</style>\n",
       "<table border=\"1\" class=\"dataframe\">\n",
       "  <thead>\n",
       "    <tr style=\"text-align: right;\">\n",
       "      <th></th>\n",
       "      <th>Annual GDP [+]</th>\n",
       "      <th>GDP per capita [+]</th>\n",
       "      <th>Country</th>\n",
       "    </tr>\n",
       "  </thead>\n",
       "  <tbody>\n",
       "    <tr>\n",
       "      <th>2</th>\n",
       "      <td>118,534M.$</td>\n",
       "      <td>3,366$</td>\n",
       "      <td>morocco</td>\n",
       "    </tr>\n",
       "    <tr>\n",
       "      <th>2</th>\n",
       "      <td>1,712,479M.$</td>\n",
       "      <td>46,290$</td>\n",
       "      <td>canada</td>\n",
       "    </tr>\n",
       "    <tr>\n",
       "      <th>2</th>\n",
       "      <td>6,401M.$</td>\n",
       "      <td>167,125$</td>\n",
       "      <td>monaco</td>\n",
       "    </tr>\n",
       "    <tr>\n",
       "      <th>2</th>\n",
       "      <td>4,704M.$</td>\n",
       "      <td>4,140$</td>\n",
       "      <td>swaziland</td>\n",
       "    </tr>\n",
       "    <tr>\n",
       "      <th>2</th>\n",
       "      <td>362,721M.$</td>\n",
       "      <td>48,451$</td>\n",
       "      <td>hong-kong</td>\n",
       "    </tr>\n",
       "    <tr>\n",
       "      <th>...</th>\n",
       "      <td>...</td>\n",
       "      <td>...</td>\n",
       "      <td>...</td>\n",
       "    </tr>\n",
       "    <tr>\n",
       "      <th>2</th>\n",
       "      <td>274,210M.$</td>\n",
       "      <td>49,738$</td>\n",
       "      <td>finland</td>\n",
       "    </tr>\n",
       "    <tr>\n",
       "      <th>2</th>\n",
       "      <td>504,928M.$</td>\n",
       "      <td>7,448$</td>\n",
       "      <td>thailand</td>\n",
       "    </tr>\n",
       "    <tr>\n",
       "      <th>2</th>\n",
       "      <td>1,222,053M.$</td>\n",
       "      <td>9,797$</td>\n",
       "      <td>mexico</td>\n",
       "    </tr>\n",
       "    <tr>\n",
       "      <th>2</th>\n",
       "      <td>79,277M.$</td>\n",
       "      <td>18,970$</td>\n",
       "      <td>oman</td>\n",
       "    </tr>\n",
       "    <tr>\n",
       "      <th>2</th>\n",
       "      <td>245,226M.$</td>\n",
       "      <td>23,113$</td>\n",
       "      <td>czech-republic</td>\n",
       "    </tr>\n",
       "  </tbody>\n",
       "</table>\n",
       "<p>68 rows × 3 columns</p>\n",
       "</div>"
      ],
      "text/plain": [
       "0  Annual GDP [+] GDP per capita [+]         Country\n",
       "2      118,534M.$             3,366$         morocco\n",
       "2    1,712,479M.$            46,290$          canada\n",
       "2        6,401M.$           167,125$          monaco\n",
       "2        4,704M.$             4,140$       swaziland\n",
       "2      362,721M.$            48,451$       hong-kong\n",
       "..            ...                ...             ...\n",
       "2      274,210M.$            49,738$         finland\n",
       "2      504,928M.$             7,448$        thailand\n",
       "2    1,222,053M.$             9,797$          mexico\n",
       "2       79,277M.$            18,970$            oman\n",
       "2      245,226M.$            23,113$  czech-republic\n",
       "\n",
       "[68 rows x 3 columns]"
      ]
     },
     "execution_count": 206,
     "metadata": {},
     "output_type": "execute_result"
    }
   ],
   "source": [
    "countries_df = pd.DataFrame()\n",
    "country_col = []\n",
    "for i in range(1, len(countries)):\n",
    "    try: \n",
    "        df1 = web_scrap_economic(url, countries[i])\n",
    "    except:\n",
    "        continue\n",
    "    country_col.append(countries[i])\n",
    "    countries_df = pd.concat([countries_df, df1], sort = False)\n",
    "countries_df[\"Country\"] = country_col\n",
    "countries_df"
   ]
  },
  {
   "cell_type": "code",
   "execution_count": 207,
   "metadata": {},
   "outputs": [],
   "source": [
    "countries_df[\"Country\"] = countries_df.Country.str.replace(\"-\", \" \").str.title()"
   ]
  },
  {
   "cell_type": "code",
   "execution_count": 1,
   "metadata": {},
   "outputs": [
    {
     "ename": "NameError",
     "evalue": "name 'countries_df' is not defined",
     "output_type": "error",
     "traceback": [
      "\u001b[0;31m---------------------------------------------------------------------------\u001b[0m",
      "\u001b[0;31mNameError\u001b[0m                                 Traceback (most recent call last)",
      "\u001b[0;32m<ipython-input-1-3a7ac1ba4fb3>\u001b[0m in \u001b[0;36m<module>\u001b[0;34m\u001b[0m\n\u001b[0;32m----> 1\u001b[0;31m \u001b[0mcountries_df\u001b[0m\u001b[0;34m.\u001b[0m\u001b[0mloc\u001b[0m\u001b[0;34m[\u001b[0m\u001b[0mdf\u001b[0m\u001b[0;34m[\u001b[0m\u001b[0;34m\"Country\"\u001b[0m\u001b[0;34m]\u001b[0m \u001b[0;34m==\u001b[0m \u001b[0;34m\"Usa\"\u001b[0m\u001b[0;34m]\u001b[0m\u001b[0;34m\u001b[0m\u001b[0;34m\u001b[0m\u001b[0m\n\u001b[0m",
      "\u001b[0;31mNameError\u001b[0m: name 'countries_df' is not defined"
     ]
    }
   ],
   "source": [
    "countries_df.loc[df[\"Country\"] == \"Usa\"]"
   ]
  },
  {
   "cell_type": "code",
   "execution_count": 209,
   "metadata": {},
   "outputs": [],
   "source": [
    "countries_df.to_csv(\"../data/processed/economic_values.csv\")"
   ]
  }
 ],
 "metadata": {
  "kernelspec": {
   "display_name": "Python [conda env:dataenv]",
   "language": "python",
   "name": "conda-env-dataenv-py"
  },
  "language_info": {
   "codemirror_mode": {
    "name": "ipython",
    "version": 3
   },
   "file_extension": ".py",
   "mimetype": "text/x-python",
   "name": "python",
   "nbconvert_exporter": "python",
   "pygments_lexer": "ipython3",
   "version": "3.7.5"
  }
 },
 "nbformat": 4,
 "nbformat_minor": 4
}
