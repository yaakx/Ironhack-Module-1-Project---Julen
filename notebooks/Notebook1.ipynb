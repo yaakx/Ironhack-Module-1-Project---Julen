{
 "cells": [
  {
   "cell_type": "code",
   "execution_count": 1,
   "metadata": {},
   "outputs": [],
   "source": [
    "import pandas as pd\n",
    "import numpy as np\n",
    "from sqlalchemy import create_engine"
   ]
  },
  {
   "cell_type": "code",
   "execution_count": 2,
   "metadata": {},
   "outputs": [],
   "source": [
    "engine = create_engine('sqlite:///../data/raw/JulenC.db')"
   ]
  },
  {
   "cell_type": "code",
   "execution_count": 3,
   "metadata": {},
   "outputs": [],
   "source": [
    "df_business = pd.read_sql_table('business_info', engine)"
   ]
  },
  {
   "cell_type": "code",
   "execution_count": 4,
   "metadata": {},
   "outputs": [],
   "source": [
    "df_personal = pd.read_sql_table('personal_info', engine)"
   ]
  },
  {
   "cell_type": "code",
   "execution_count": 5,
   "metadata": {},
   "outputs": [],
   "source": [
    "df_rank = pd.read_sql_table('rank_info', engine)"
   ]
  },
  {
   "cell_type": "code",
   "execution_count": 6,
   "metadata": {},
   "outputs": [
    {
     "data": {
      "text/html": [
       "<div>\n",
       "<style scoped>\n",
       "    .dataframe tbody tr th:only-of-type {\n",
       "        vertical-align: middle;\n",
       "    }\n",
       "\n",
       "    .dataframe tbody tr th {\n",
       "        vertical-align: top;\n",
       "    }\n",
       "\n",
       "    .dataframe thead th {\n",
       "        text-align: right;\n",
       "    }\n",
       "</style>\n",
       "<table border=\"1\" class=\"dataframe\">\n",
       "  <thead>\n",
       "    <tr style=\"text-align: right;\">\n",
       "      <th></th>\n",
       "      <th>id</th>\n",
       "      <th>Unnamed: 0</th>\n",
       "      <th>Source</th>\n",
       "      <th>worth</th>\n",
       "      <th>worthChange</th>\n",
       "      <th>realTimeWorth</th>\n",
       "      <th>realTimePosition</th>\n",
       "    </tr>\n",
       "  </thead>\n",
       "  <tbody>\n",
       "    <tr>\n",
       "      <th>0</th>\n",
       "      <td>3033</td>\n",
       "      <td>52</td>\n",
       "      <td>Technology  ==&gt; Amazon</td>\n",
       "      <td>112.0 BUSD</td>\n",
       "      <td>0.0 millions USD</td>\n",
       "      <td>NaN</td>\n",
       "      <td>1</td>\n",
       "    </tr>\n",
       "    <tr>\n",
       "      <th>1</th>\n",
       "      <td>3381</td>\n",
       "      <td>53</td>\n",
       "      <td>Technology  ==&gt; Microsoft</td>\n",
       "      <td>90.0 BUSD</td>\n",
       "      <td>-0.001 millions USD</td>\n",
       "      <td>NaN</td>\n",
       "      <td>2</td>\n",
       "    </tr>\n",
       "    <tr>\n",
       "      <th>2</th>\n",
       "      <td>2949</td>\n",
       "      <td>54</td>\n",
       "      <td>Finance and Investments  ==&gt; Berkshire Hathaway</td>\n",
       "      <td>84.0 BUSD</td>\n",
       "      <td>-0.002 millions USD</td>\n",
       "      <td>NaN</td>\n",
       "      <td>3</td>\n",
       "    </tr>\n",
       "    <tr>\n",
       "      <th>3</th>\n",
       "      <td>7380</td>\n",
       "      <td>55</td>\n",
       "      <td>Fashion &amp; Retail  ==&gt; LVMH</td>\n",
       "      <td>72.0 BUSD</td>\n",
       "      <td>0.0 millions USD</td>\n",
       "      <td>NaN</td>\n",
       "      <td>4</td>\n",
       "    </tr>\n",
       "    <tr>\n",
       "      <th>4</th>\n",
       "      <td>6568</td>\n",
       "      <td>56</td>\n",
       "      <td>Technology  ==&gt; Facebook</td>\n",
       "      <td>71.0 BUSD</td>\n",
       "      <td>0.0 millions USD</td>\n",
       "      <td>NaN</td>\n",
       "      <td>5</td>\n",
       "    </tr>\n",
       "  </tbody>\n",
       "</table>\n",
       "</div>"
      ],
      "text/plain": [
       "     id  Unnamed: 0                                           Source  \\\n",
       "0  3033          52                           Technology  ==> Amazon   \n",
       "1  3381          53                        Technology  ==> Microsoft   \n",
       "2  2949          54  Finance and Investments  ==> Berkshire Hathaway   \n",
       "3  7380          55                       Fashion & Retail  ==> LVMH   \n",
       "4  6568          56                         Technology  ==> Facebook   \n",
       "\n",
       "        worth          worthChange  realTimeWorth  realTimePosition  \n",
       "0  112.0 BUSD     0.0 millions USD            NaN                 1  \n",
       "1   90.0 BUSD  -0.001 millions USD            NaN                 2  \n",
       "2   84.0 BUSD  -0.002 millions USD            NaN                 3  \n",
       "3   72.0 BUSD     0.0 millions USD            NaN                 4  \n",
       "4   71.0 BUSD     0.0 millions USD            NaN                 5  "
      ]
     },
     "execution_count": 6,
     "metadata": {},
     "output_type": "execute_result"
    }
   ],
   "source": [
    "df_business.head()"
   ]
  },
  {
   "cell_type": "code",
   "execution_count": 7,
   "metadata": {},
   "outputs": [
    {
     "data": {
      "text/html": [
       "<div>\n",
       "<style scoped>\n",
       "    .dataframe tbody tr th:only-of-type {\n",
       "        vertical-align: middle;\n",
       "    }\n",
       "\n",
       "    .dataframe tbody tr th {\n",
       "        vertical-align: top;\n",
       "    }\n",
       "\n",
       "    .dataframe thead th {\n",
       "        text-align: right;\n",
       "    }\n",
       "</style>\n",
       "<table border=\"1\" class=\"dataframe\">\n",
       "  <thead>\n",
       "    <tr style=\"text-align: right;\">\n",
       "      <th></th>\n",
       "      <th>id</th>\n",
       "      <th>Unnamed: 0</th>\n",
       "      <th>Source</th>\n",
       "      <th>worth</th>\n",
       "      <th>worthChange</th>\n",
       "      <th>realTimeWorth</th>\n",
       "      <th>realTimePosition</th>\n",
       "    </tr>\n",
       "  </thead>\n",
       "  <tbody>\n",
       "    <tr>\n",
       "      <th>0</th>\n",
       "      <td>3033</td>\n",
       "      <td>52</td>\n",
       "      <td>Technology  ==&gt; Amazon</td>\n",
       "      <td>112.0 BUSD</td>\n",
       "      <td>0.0 millions USD</td>\n",
       "      <td>NaN</td>\n",
       "      <td>1</td>\n",
       "    </tr>\n",
       "    <tr>\n",
       "      <th>1</th>\n",
       "      <td>3381</td>\n",
       "      <td>53</td>\n",
       "      <td>Technology  ==&gt; Microsoft</td>\n",
       "      <td>90.0 BUSD</td>\n",
       "      <td>-0.001 millions USD</td>\n",
       "      <td>NaN</td>\n",
       "      <td>2</td>\n",
       "    </tr>\n",
       "    <tr>\n",
       "      <th>2</th>\n",
       "      <td>2949</td>\n",
       "      <td>54</td>\n",
       "      <td>Finance and Investments  ==&gt; Berkshire Hathaway</td>\n",
       "      <td>84.0 BUSD</td>\n",
       "      <td>-0.002 millions USD</td>\n",
       "      <td>NaN</td>\n",
       "      <td>3</td>\n",
       "    </tr>\n",
       "    <tr>\n",
       "      <th>3</th>\n",
       "      <td>7380</td>\n",
       "      <td>55</td>\n",
       "      <td>Fashion &amp; Retail  ==&gt; LVMH</td>\n",
       "      <td>72.0 BUSD</td>\n",
       "      <td>0.0 millions USD</td>\n",
       "      <td>NaN</td>\n",
       "      <td>4</td>\n",
       "    </tr>\n",
       "    <tr>\n",
       "      <th>4</th>\n",
       "      <td>6568</td>\n",
       "      <td>56</td>\n",
       "      <td>Technology  ==&gt; Facebook</td>\n",
       "      <td>71.0 BUSD</td>\n",
       "      <td>0.0 millions USD</td>\n",
       "      <td>NaN</td>\n",
       "      <td>5</td>\n",
       "    </tr>\n",
       "    <tr>\n",
       "      <th>...</th>\n",
       "      <td>...</td>\n",
       "      <td>...</td>\n",
       "      <td>...</td>\n",
       "      <td>...</td>\n",
       "      <td>...</td>\n",
       "      <td>...</td>\n",
       "      <td>...</td>\n",
       "    </tr>\n",
       "    <tr>\n",
       "      <th>2155</th>\n",
       "      <td>4524</td>\n",
       "      <td>2207</td>\n",
       "      <td>Technology  ==&gt; mobile gaming</td>\n",
       "      <td>1.0 BUSD</td>\n",
       "      <td>nan millions USD</td>\n",
       "      <td>NaN</td>\n",
       "      <td>2151</td>\n",
       "    </tr>\n",
       "    <tr>\n",
       "      <th>2154</th>\n",
       "      <td>5983</td>\n",
       "      <td>2206</td>\n",
       "      <td>Manufacturing  ==&gt; antennas</td>\n",
       "      <td>1.0 BUSD</td>\n",
       "      <td>nan millions USD</td>\n",
       "      <td>NaN</td>\n",
       "      <td>2151</td>\n",
       "    </tr>\n",
       "    <tr>\n",
       "      <th>2136</th>\n",
       "      <td>3259</td>\n",
       "      <td>2188</td>\n",
       "      <td>Technology  ==&gt; Stripe</td>\n",
       "      <td>1.0 BUSD</td>\n",
       "      <td>0.0 millions USD</td>\n",
       "      <td>NaN</td>\n",
       "      <td>2152</td>\n",
       "    </tr>\n",
       "    <tr>\n",
       "      <th>2133</th>\n",
       "      <td>2855</td>\n",
       "      <td>2185</td>\n",
       "      <td>Metals &amp; Mining  ==&gt; metallurgy</td>\n",
       "      <td>1.0 BUSD</td>\n",
       "      <td>nan millions USD</td>\n",
       "      <td>NaN</td>\n",
       "      <td>2153</td>\n",
       "    </tr>\n",
       "    <tr>\n",
       "      <th>2132</th>\n",
       "      <td>7381</td>\n",
       "      <td>2184</td>\n",
       "      <td>Fashion &amp; Retail  ==&gt; Patagonia</td>\n",
       "      <td>1.0 BUSD</td>\n",
       "      <td>0.0 millions USD</td>\n",
       "      <td>NaN</td>\n",
       "      <td>2153</td>\n",
       "    </tr>\n",
       "  </tbody>\n",
       "</table>\n",
       "<p>2208 rows × 7 columns</p>\n",
       "</div>"
      ],
      "text/plain": [
       "        id  Unnamed: 0                                           Source  \\\n",
       "0     3033          52                           Technology  ==> Amazon   \n",
       "1     3381          53                        Technology  ==> Microsoft   \n",
       "2     2949          54  Finance and Investments  ==> Berkshire Hathaway   \n",
       "3     7380          55                       Fashion & Retail  ==> LVMH   \n",
       "4     6568          56                         Technology  ==> Facebook   \n",
       "...    ...         ...                                              ...   \n",
       "2155  4524        2207                    Technology  ==> mobile gaming   \n",
       "2154  5983        2206                      Manufacturing  ==> antennas   \n",
       "2136  3259        2188                           Technology  ==> Stripe   \n",
       "2133  2855        2185                  Metals & Mining  ==> metallurgy   \n",
       "2132  7381        2184                  Fashion & Retail  ==> Patagonia   \n",
       "\n",
       "           worth          worthChange  realTimeWorth  realTimePosition  \n",
       "0     112.0 BUSD     0.0 millions USD            NaN                 1  \n",
       "1      90.0 BUSD  -0.001 millions USD            NaN                 2  \n",
       "2      84.0 BUSD  -0.002 millions USD            NaN                 3  \n",
       "3      72.0 BUSD     0.0 millions USD            NaN                 4  \n",
       "4      71.0 BUSD     0.0 millions USD            NaN                 5  \n",
       "...          ...                  ...            ...               ...  \n",
       "2155    1.0 BUSD     nan millions USD            NaN              2151  \n",
       "2154    1.0 BUSD     nan millions USD            NaN              2151  \n",
       "2136    1.0 BUSD     0.0 millions USD            NaN              2152  \n",
       "2133    1.0 BUSD     nan millions USD            NaN              2153  \n",
       "2132    1.0 BUSD     0.0 millions USD            NaN              2153  \n",
       "\n",
       "[2208 rows x 7 columns]"
      ]
     },
     "execution_count": 7,
     "metadata": {},
     "output_type": "execute_result"
    }
   ],
   "source": [
    "df_business.sort_values(\"realTimePosition\")"
   ]
  },
  {
   "cell_type": "code",
   "execution_count": 8,
   "metadata": {},
   "outputs": [
    {
     "data": {
      "text/html": [
       "<div>\n",
       "<style scoped>\n",
       "    .dataframe tbody tr th:only-of-type {\n",
       "        vertical-align: middle;\n",
       "    }\n",
       "\n",
       "    .dataframe tbody tr th {\n",
       "        vertical-align: top;\n",
       "    }\n",
       "\n",
       "    .dataframe thead th {\n",
       "        text-align: right;\n",
       "    }\n",
       "</style>\n",
       "<table border=\"1\" class=\"dataframe\">\n",
       "  <thead>\n",
       "    <tr style=\"text-align: right;\">\n",
       "      <th></th>\n",
       "      <th>id</th>\n",
       "      <th>name</th>\n",
       "      <th>position</th>\n",
       "      <th>Unnamed: 0</th>\n",
       "    </tr>\n",
       "  </thead>\n",
       "  <tbody>\n",
       "    <tr>\n",
       "      <th>0</th>\n",
       "      <td>9141</td>\n",
       "      <td>anant ASAVABHOKHIN &amp; FAmily</td>\n",
       "      <td>NaN</td>\n",
       "      <td>0</td>\n",
       "    </tr>\n",
       "    <tr>\n",
       "      <th>1</th>\n",
       "      <td>3602</td>\n",
       "      <td>araSH FERDOWSI</td>\n",
       "      <td>NaN</td>\n",
       "      <td>1</td>\n",
       "    </tr>\n",
       "    <tr>\n",
       "      <th>2</th>\n",
       "      <td>1750</td>\n",
       "      <td>banthoon laMSAM &amp; FAMIly</td>\n",
       "      <td>NaN</td>\n",
       "      <td>2</td>\n",
       "    </tr>\n",
       "    <tr>\n",
       "      <th>3</th>\n",
       "      <td>5586</td>\n",
       "      <td>bill adderlEY &amp; family</td>\n",
       "      <td>NaN</td>\n",
       "      <td>3</td>\n",
       "    </tr>\n",
       "    <tr>\n",
       "      <th>4</th>\n",
       "      <td>3870</td>\n",
       "      <td>boris ZINGAREVIch</td>\n",
       "      <td>NaN</td>\n",
       "      <td>4</td>\n",
       "    </tr>\n",
       "  </tbody>\n",
       "</table>\n",
       "</div>"
      ],
      "text/plain": [
       "     id                         name  position  Unnamed: 0\n",
       "0  9141  anant ASAVABHOKHIN & FAmily       NaN           0\n",
       "1  3602               araSH FERDOWSI       NaN           1\n",
       "2  1750     banthoon laMSAM & FAMIly       NaN           2\n",
       "3  5586       bill adderlEY & family       NaN           3\n",
       "4  3870            boris ZINGAREVIch       NaN           4"
      ]
     },
     "execution_count": 8,
     "metadata": {},
     "output_type": "execute_result"
    }
   ],
   "source": [
    "df_rank.head()"
   ]
  },
  {
   "cell_type": "code",
   "execution_count": 9,
   "metadata": {},
   "outputs": [],
   "source": [
    "df = df_business.merge(df_rank, on = ['id', 'Unnamed: 0'], how = 'left')"
   ]
  },
  {
   "cell_type": "code",
   "execution_count": 10,
   "metadata": {},
   "outputs": [],
   "source": [
    "df = df.merge(df_personal, on = ['id', 'Unnamed: 0'], how = 'outer')"
   ]
  },
  {
   "cell_type": "code",
   "execution_count": 11,
   "metadata": {},
   "outputs": [],
   "source": [
    "df.drop(['Unnamed: 0', 'lastName'], axis = 1, inplace = True)"
   ]
  },
  {
   "cell_type": "code",
   "execution_count": 12,
   "metadata": {},
   "outputs": [],
   "source": [
    "df.name = df.name.str.title()"
   ]
  },
  {
   "cell_type": "code",
   "execution_count": 13,
   "metadata": {},
   "outputs": [],
   "source": [
    "df.position = df.position.astype(\"int64\")"
   ]
  },
  {
   "cell_type": "code",
   "execution_count": 14,
   "metadata": {},
   "outputs": [],
   "source": [
    "df.worth = df.worth.str.replace('BUSD', '').astype('float64')"
   ]
  },
  {
   "cell_type": "code",
   "execution_count": 15,
   "metadata": {},
   "outputs": [],
   "source": [
    "newcol = list(df.columns)\n",
    "newcol[2] = \"worth (BUSD)\"\n",
    "df.columns = newcol"
   ]
  },
  {
   "cell_type": "code",
   "execution_count": 16,
   "metadata": {},
   "outputs": [],
   "source": [
    "df.age = df.age.str.replace(\" years old\", \"\")"
   ]
  },
  {
   "cell_type": "code",
   "execution_count": 17,
   "metadata": {},
   "outputs": [],
   "source": [
    "df.age = df.age.fillna(value = np.nan).astype(\"float64\")"
   ]
  },
  {
   "cell_type": "code",
   "execution_count": 18,
   "metadata": {},
   "outputs": [],
   "source": [
    "df.age = df.age.apply(lambda x: 2019 - x if x > 1900 else x)"
   ]
  },
  {
   "cell_type": "code",
   "execution_count": 19,
   "metadata": {},
   "outputs": [],
   "source": [
    "df[\"area\"] = df[\"Source\"].str.split(\"==>\").str[0]"
   ]
  },
  {
   "cell_type": "code",
   "execution_count": 20,
   "metadata": {},
   "outputs": [],
   "source": [
    "df[\"source\"] = df[\"Source\"].str.split(\"==>\").str[1]"
   ]
  },
  {
   "cell_type": "code",
   "execution_count": 21,
   "metadata": {},
   "outputs": [],
   "source": [
    "df.drop(\"Source\", axis = 1, inplace = True)"
   ]
  },
  {
   "cell_type": "code",
   "execution_count": null,
   "metadata": {},
   "outputs": [],
   "source": []
  },
  {
   "cell_type": "code",
   "execution_count": 22,
   "metadata": {},
   "outputs": [],
   "source": [
    "newcol = list(df.columns)\n",
    "newcol[2] = \"worthChage (millions USD)\"\n",
    "df.columns = newcol"
   ]
  },
  {
   "cell_type": "code",
   "execution_count": 23,
   "metadata": {},
   "outputs": [],
   "source": [
    "df[\"worthChage (millions USD)\"] = df[\"worthChage (millions USD)\"].str.replace(\" millions USD\", \"\")"
   ]
  },
  {
   "cell_type": "code",
   "execution_count": 24,
   "metadata": {},
   "outputs": [],
   "source": [
    "df.loc[df[\"worthChage (millions USD)\"] == \"nan\", \"worthChage (millions USD)\"] = np.nan"
   ]
  },
  {
   "cell_type": "code",
   "execution_count": 25,
   "metadata": {},
   "outputs": [],
   "source": [
    "df[\"worthChage (millions USD)\"] = df[\"worthChage (millions USD)\"].astype(\"float64\")"
   ]
  },
  {
   "cell_type": "code",
   "execution_count": 26,
   "metadata": {},
   "outputs": [],
   "source": [
    "df.loc[df[\"gender\"] == \"Male\", \"gender\"] = \"M\""
   ]
  },
  {
   "cell_type": "code",
   "execution_count": 27,
   "metadata": {},
   "outputs": [],
   "source": [
    "df.loc[df[\"gender\"] == \"Female\", \"gender\"] = \"F\""
   ]
  },
  {
   "cell_type": "code",
   "execution_count": 28,
   "metadata": {},
   "outputs": [],
   "source": [
    "df.loc[df[\"gender\"] == 'None', \"gender\"] = None"
   ]
  },
  {
   "cell_type": "code",
   "execution_count": 29,
   "metadata": {},
   "outputs": [],
   "source": [
    "df.drop(\"realTimeWorth\", axis = 1, inplace = True)"
   ]
  },
  {
   "cell_type": "code",
   "execution_count": 30,
   "metadata": {},
   "outputs": [],
   "source": [
    "df.loc[df[\"country\"] == 'None', \"country\"] = None"
   ]
  },
  {
   "cell_type": "code",
   "execution_count": 31,
   "metadata": {},
   "outputs": [],
   "source": [
    "df.to_csv(\"../data/processed/forbes_clean.csv\")"
   ]
  },
  {
   "cell_type": "code",
   "execution_count": 32,
   "metadata": {},
   "outputs": [
    {
     "data": {
      "text/html": [
       "<div>\n",
       "<style scoped>\n",
       "    .dataframe tbody tr th:only-of-type {\n",
       "        vertical-align: middle;\n",
       "    }\n",
       "\n",
       "    .dataframe tbody tr th {\n",
       "        vertical-align: top;\n",
       "    }\n",
       "\n",
       "    .dataframe thead th {\n",
       "        text-align: right;\n",
       "    }\n",
       "</style>\n",
       "<table border=\"1\" class=\"dataframe\">\n",
       "  <thead>\n",
       "    <tr style=\"text-align: right;\">\n",
       "      <th></th>\n",
       "      <th>id</th>\n",
       "      <th>worth (BUSD)</th>\n",
       "      <th>worthChage (millions USD)</th>\n",
       "      <th>realTimePosition</th>\n",
       "      <th>name</th>\n",
       "      <th>position</th>\n",
       "      <th>age</th>\n",
       "      <th>gender</th>\n",
       "      <th>country</th>\n",
       "      <th>image</th>\n",
       "      <th>area</th>\n",
       "      <th>source</th>\n",
       "    </tr>\n",
       "  </thead>\n",
       "  <tbody>\n",
       "    <tr>\n",
       "      <th>0</th>\n",
       "      <td>3033</td>\n",
       "      <td>112.0</td>\n",
       "      <td>0.000</td>\n",
       "      <td>1</td>\n",
       "      <td>Jeff Bezos</td>\n",
       "      <td>1</td>\n",
       "      <td>54.0</td>\n",
       "      <td>M</td>\n",
       "      <td>United States</td>\n",
       "      <td>https://specials-images.forbesimg.com/imageser...</td>\n",
       "      <td>Technology</td>\n",
       "      <td>Amazon</td>\n",
       "    </tr>\n",
       "    <tr>\n",
       "      <th>1</th>\n",
       "      <td>3381</td>\n",
       "      <td>90.0</td>\n",
       "      <td>-0.001</td>\n",
       "      <td>2</td>\n",
       "      <td>Bill Gates</td>\n",
       "      <td>2</td>\n",
       "      <td>62.0</td>\n",
       "      <td>M</td>\n",
       "      <td>United States</td>\n",
       "      <td>https://specials-images.forbesimg.com/imageser...</td>\n",
       "      <td>Technology</td>\n",
       "      <td>Microsoft</td>\n",
       "    </tr>\n",
       "    <tr>\n",
       "      <th>2</th>\n",
       "      <td>2949</td>\n",
       "      <td>84.0</td>\n",
       "      <td>-0.002</td>\n",
       "      <td>3</td>\n",
       "      <td>Warren Buffett</td>\n",
       "      <td>3</td>\n",
       "      <td>87.0</td>\n",
       "      <td>M</td>\n",
       "      <td>United States</td>\n",
       "      <td>https://specials-images.forbesimg.com/imageser...</td>\n",
       "      <td>Finance and Investments</td>\n",
       "      <td>Berkshire Hathaway</td>\n",
       "    </tr>\n",
       "    <tr>\n",
       "      <th>3</th>\n",
       "      <td>7380</td>\n",
       "      <td>72.0</td>\n",
       "      <td>0.000</td>\n",
       "      <td>4</td>\n",
       "      <td>Bernard Arnault</td>\n",
       "      <td>4</td>\n",
       "      <td>69.0</td>\n",
       "      <td>None</td>\n",
       "      <td>None</td>\n",
       "      <td>https://specials-images.forbesimg.com/imageser...</td>\n",
       "      <td>Fashion &amp; Retail</td>\n",
       "      <td>LVMH</td>\n",
       "    </tr>\n",
       "    <tr>\n",
       "      <th>4</th>\n",
       "      <td>6568</td>\n",
       "      <td>71.0</td>\n",
       "      <td>0.000</td>\n",
       "      <td>5</td>\n",
       "      <td>Mark Zuckerberg</td>\n",
       "      <td>5</td>\n",
       "      <td>34.0</td>\n",
       "      <td>None</td>\n",
       "      <td>None</td>\n",
       "      <td>https://specials-images.forbesimg.com/imageser...</td>\n",
       "      <td>Technology</td>\n",
       "      <td>Facebook</td>\n",
       "    </tr>\n",
       "  </tbody>\n",
       "</table>\n",
       "</div>"
      ],
      "text/plain": [
       "     id  worth (BUSD)  worthChage (millions USD)  realTimePosition  \\\n",
       "0  3033         112.0                      0.000                 1   \n",
       "1  3381          90.0                     -0.001                 2   \n",
       "2  2949          84.0                     -0.002                 3   \n",
       "3  7380          72.0                      0.000                 4   \n",
       "4  6568          71.0                      0.000                 5   \n",
       "\n",
       "              name  position   age gender        country  \\\n",
       "0       Jeff Bezos         1  54.0      M  United States   \n",
       "1       Bill Gates         2  62.0      M  United States   \n",
       "2   Warren Buffett         3  87.0      M  United States   \n",
       "3  Bernard Arnault         4  69.0   None           None   \n",
       "4  Mark Zuckerberg         5  34.0   None           None   \n",
       "\n",
       "                                               image  \\\n",
       "0  https://specials-images.forbesimg.com/imageser...   \n",
       "1  https://specials-images.forbesimg.com/imageser...   \n",
       "2  https://specials-images.forbesimg.com/imageser...   \n",
       "3  https://specials-images.forbesimg.com/imageser...   \n",
       "4  https://specials-images.forbesimg.com/imageser...   \n",
       "\n",
       "                        area               source  \n",
       "0               Technology                 Amazon  \n",
       "1               Technology              Microsoft  \n",
       "2  Finance and Investments     Berkshire Hathaway  \n",
       "3         Fashion & Retail                   LVMH  \n",
       "4               Technology               Facebook  "
      ]
     },
     "execution_count": 32,
     "metadata": {},
     "output_type": "execute_result"
    }
   ],
   "source": [
    "df.head()"
   ]
  },
  {
   "cell_type": "code",
   "execution_count": 33,
   "metadata": {},
   "outputs": [
    {
     "data": {
      "text/plain": [
       "id                            0.000000\n",
       "worth (BUSD)                  0.000000\n",
       "worthChage (millions USD)     4.846014\n",
       "realTimePosition              0.000000\n",
       "name                          0.000000\n",
       "position                      0.000000\n",
       "age                           2.943841\n",
       "gender                       25.135870\n",
       "country                      62.952899\n",
       "image                         0.000000\n",
       "area                          0.000000\n",
       "source                        0.000000\n",
       "dtype: float64"
      ]
     },
     "execution_count": 33,
     "metadata": {},
     "output_type": "execute_result"
    }
   ],
   "source": [
    "df.isnull().sum()/len(df)*100"
   ]
  },
  {
   "cell_type": "code",
   "execution_count": null,
   "metadata": {},
   "outputs": [],
   "source": []
  },
  {
   "cell_type": "code",
   "execution_count": null,
   "metadata": {},
   "outputs": [],
   "source": []
  }
 ],
 "metadata": {
  "kernelspec": {
   "display_name": "Python [conda env:dataenv]",
   "language": "python",
   "name": "conda-env-dataenv-py"
  },
  "language_info": {
   "codemirror_mode": {
    "name": "ipython",
    "version": 3
   },
   "file_extension": ".py",
   "mimetype": "text/x-python",
   "name": "python",
   "nbconvert_exporter": "python",
   "pygments_lexer": "ipython3",
   "version": "3.7.5"
  }
 },
 "nbformat": 4,
 "nbformat_minor": 4
}
